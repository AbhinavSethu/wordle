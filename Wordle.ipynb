import random
import os

def load_word_list(filename="/content/drive/MyDrive/AI/Words.txt"):
    """Loads a list of 5-letter words from a file."""
    if not os.path.exists(filename):
        print(f"Error: '{filename}' not found. Please ensure the file exists.")
        return None  # Return None instead of exiting

    try:
        with open(filename, "r", encoding="utf-8") as file:
            words = [word.strip().upper() for word in file if len(word.strip()) == 5]
            if not words:
                raise ValueError("Word list is empty. Ensure the file contains valid words.")
            return words
    except ValueError as e:
        print(f"Error: {e}")
        return None

def choose_word(word_list):
    """Chooses a random word from the list."""
    return random.choice(word_list) if word_list else None

def get_feedback(secret_word, guess):
    """Returns feedback for the guessed word using emojis."""
    return "".join(
        "🟩" if guess[i] == secret_word[i] else
        "🟨" if guess[i] in secret_word else "⬜"
        for i in range(len(secret_word))
    )

def wordle():
    """Main function to run the Wordle game."""
    word_list = load_word_list()

    if not word_list:  # Handle missing file or empty word list
        print("Exiting game due to missing or empty word list.")
        return

    secret_word = choose_word(word_list)
    if not secret_word:
        print("Error: No valid words available for selection.")
        return

    attempts = 6
    print(f"Welcome to Wordle! Guess the {len(secret_word)}-letter word.")

    for attempt in range(1, attempts + 1):
        while True:
            guess = input(f"Attempt {attempt}/{attempts} - Enter your guess: ").strip().upper()
            if len(guess) == len(secret_word) and guess.isalpha():
                break
            print(f"Invalid guess. Please enter a {len(secret_word)}-letter word.")

        feedback = get_feedback(secret_word, guess)
        print(feedback)

        if guess == secret_word:
            print("🎉 Congratulations! You guessed the word correctly!")
            return

    print(f"😢 Sorry, you've run out of attempts. The word was: {secret_word}")

if __name__ == "__main__":
    wordle()
